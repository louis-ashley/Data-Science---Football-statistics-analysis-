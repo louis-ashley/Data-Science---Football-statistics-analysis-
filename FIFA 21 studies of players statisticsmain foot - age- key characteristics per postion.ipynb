{
 "cells": [
  {
   "cell_type": "markdown",
   "metadata": {},
   "source": [
    "# FIFA 2021 Statistics\n",
    "\n",
    "\n",
    "## Players performances, age influence, key characterstics per positions, main foot  \n",
    ". \n",
    "\n",
    "This notebook is covering 4 main studies: \n",
    "\n",
    "* Understand the key characteristics you need to be a good player at your position  \n",
    "* Understand the age influence on the average level of a player \n",
    "* See if there is a significant difference between Left and Right main foot players\n",
    "* Have an overview of the proportion of every position and more statistics about football players\n",
    "\n",
    "\n",
    "![Alt text](https://sportslens.com/wp-content/uploads/2020/05/FIFA21.jpg)\n"
   ]
  },
  {
   "cell_type": "markdown",
   "metadata": {},
   "source": [
    "First we import the necessary librairies"
   ]
  },
  {
   "cell_type": "code",
   "execution_count": 4,
   "metadata": {},
   "outputs": [],
   "source": [
    "\n",
    "import numpy as np\n",
    "import pandas as pd\n",
    "import matplotlib.pyplot as plt\n",
    "\n",
    "%matplotlib inline \n"
   ]
  },
  {
   "cell_type": "markdown",
   "metadata": {},
   "source": [
    "Openning of the database with fifa 21 staticts about football players. The necessary columns are selected "
   ]
  },
  {
   "cell_type": "code",
   "execution_count": 5,
   "metadata": {},
   "outputs": [
    {
     "name": "stderr",
     "output_type": "stream",
     "text": [
      "C:\\Users\\louas\\anaconda3\\lib\\site-packages\\IPython\\core\\interactiveshell.py:3071: DtypeWarning: Columns (78) have mixed types.Specify dtype option on import or set low_memory=False.\n",
      "  has_raised = await self.run_ast_nodes(code_ast.body, cell_name,\n"
     ]
    },
    {
     "data": {
      "text/html": [
       "<div>\n",
       "<style scoped>\n",
       "    .dataframe tbody tr th:only-of-type {\n",
       "        vertical-align: middle;\n",
       "    }\n",
       "\n",
       "    .dataframe tbody tr th {\n",
       "        vertical-align: top;\n",
       "    }\n",
       "\n",
       "    .dataframe thead th {\n",
       "        text-align: right;\n",
       "    }\n",
       "</style>\n",
       "<table border=\"1\" class=\"dataframe\">\n",
       "  <thead>\n",
       "    <tr style=\"text-align: right;\">\n",
       "      <th></th>\n",
       "      <th>Name</th>\n",
       "      <th>Age</th>\n",
       "      <th>OVA</th>\n",
       "      <th>Nationality</th>\n",
       "      <th>foot</th>\n",
       "      <th>Value</th>\n",
       "      <th>BP</th>\n",
       "      <th>Height</th>\n",
       "      <th>PAC</th>\n",
       "      <th>SHO</th>\n",
       "      <th>PAS</th>\n",
       "      <th>DRI</th>\n",
       "      <th>DEF</th>\n",
       "      <th>PHY</th>\n",
       "    </tr>\n",
       "  </thead>\n",
       "  <tbody>\n",
       "    <tr>\n",
       "      <th>0</th>\n",
       "      <td>G. Pasquale</td>\n",
       "      <td>33</td>\n",
       "      <td>69</td>\n",
       "      <td>Italy</td>\n",
       "      <td>Left</td>\n",
       "      <td>€625K</td>\n",
       "      <td>LWB</td>\n",
       "      <td>6'0\"</td>\n",
       "      <td>71</td>\n",
       "      <td>59</td>\n",
       "      <td>70</td>\n",
       "      <td>71</td>\n",
       "      <td>68</td>\n",
       "      <td>69</td>\n",
       "    </tr>\n",
       "    <tr>\n",
       "      <th>1</th>\n",
       "      <td>Luis García</td>\n",
       "      <td>37</td>\n",
       "      <td>71</td>\n",
       "      <td>Spain</td>\n",
       "      <td>Right</td>\n",
       "      <td>€600K</td>\n",
       "      <td>CM</td>\n",
       "      <td>5'10\"</td>\n",
       "      <td>53</td>\n",
       "      <td>69</td>\n",
       "      <td>73</td>\n",
       "      <td>69</td>\n",
       "      <td>58</td>\n",
       "      <td>63</td>\n",
       "    </tr>\n",
       "    <tr>\n",
       "      <th>2</th>\n",
       "      <td>J. Cole</td>\n",
       "      <td>33</td>\n",
       "      <td>71</td>\n",
       "      <td>England</td>\n",
       "      <td>Right</td>\n",
       "      <td>€1.1M</td>\n",
       "      <td>CAM</td>\n",
       "      <td>5'9\"</td>\n",
       "      <td>45</td>\n",
       "      <td>68</td>\n",
       "      <td>76</td>\n",
       "      <td>77</td>\n",
       "      <td>36</td>\n",
       "      <td>52</td>\n",
       "    </tr>\n",
       "    <tr>\n",
       "      <th>3</th>\n",
       "      <td>D. Yorke</td>\n",
       "      <td>36</td>\n",
       "      <td>68</td>\n",
       "      <td>Trinidad &amp;amp; Tobago</td>\n",
       "      <td>Right</td>\n",
       "      <td>€0</td>\n",
       "      <td>ST</td>\n",
       "      <td>5'11\"</td>\n",
       "      <td>61</td>\n",
       "      <td>66</td>\n",
       "      <td>66</td>\n",
       "      <td>69</td>\n",
       "      <td>47</td>\n",
       "      <td>60</td>\n",
       "    </tr>\n",
       "    <tr>\n",
       "      <th>4</th>\n",
       "      <td>Iniesta</td>\n",
       "      <td>36</td>\n",
       "      <td>81</td>\n",
       "      <td>Spain</td>\n",
       "      <td>Right</td>\n",
       "      <td>€5.5M</td>\n",
       "      <td>CAM</td>\n",
       "      <td>5'7\"</td>\n",
       "      <td>58</td>\n",
       "      <td>70</td>\n",
       "      <td>85</td>\n",
       "      <td>85</td>\n",
       "      <td>63</td>\n",
       "      <td>59</td>\n",
       "    </tr>\n",
       "  </tbody>\n",
       "</table>\n",
       "</div>"
      ],
      "text/plain": [
       "          Name  Age  OVA            Nationality   foot  Value   BP Height  \\\n",
       "0  G. Pasquale   33   69                  Italy   Left  €625K  LWB   6'0\"   \n",
       "1  Luis García   37   71                  Spain  Right  €600K   CM  5'10\"   \n",
       "2      J. Cole   33   71                England  Right  €1.1M  CAM   5'9\"   \n",
       "3     D. Yorke   36   68  Trinidad &amp; Tobago  Right     €0   ST  5'11\"   \n",
       "4      Iniesta   36   81                  Spain  Right  €5.5M  CAM   5'7\"   \n",
       "\n",
       "   PAC  SHO  PAS  DRI  DEF  PHY  \n",
       "0   71   59   70   71   68   69  \n",
       "1   53   69   73   69   58   63  \n",
       "2   45   68   76   77   36   52  \n",
       "3   61   66   66   69   47   60  \n",
       "4   58   70   85   85   63   59  "
      ]
     },
     "execution_count": 5,
     "metadata": {},
     "output_type": "execute_result"
    }
   ],
   "source": [
    "df=pd.read_csv(\"fifa21.csv\")\n",
    "cols=['Name', 'Age', 'OVA', 'Nationality', 'foot','Value','BP','Height','PAC','SHO','PAS','DRI','DEF','PHY']\n",
    "df=df[cols]\n",
    "df.head()"
   ]
  },
  {
   "cell_type": "markdown",
   "metadata": {},
   "source": [
    "Verification that the shape is normal, the data is not having unexpected data or missing data"
   ]
  },
  {
   "cell_type": "code",
   "execution_count": 6,
   "metadata": {},
   "outputs": [
    {
     "data": {
      "text/plain": [
       "(17125, 14)"
      ]
     },
     "execution_count": 6,
     "metadata": {},
     "output_type": "execute_result"
    }
   ],
   "source": [
    "df.shape\n"
   ]
  },
  {
   "cell_type": "code",
   "execution_count": 7,
   "metadata": {},
   "outputs": [
    {
     "data": {
      "text/plain": [
       "<bound method DataFrame.info of                   Name  Age  OVA            Nationality   foot  Value   BP  \\\n",
       "0          G. Pasquale   33   69                  Italy   Left  €625K  LWB   \n",
       "1          Luis García   37   71                  Spain  Right  €600K   CM   \n",
       "2              J. Cole   33   71                England  Right  €1.1M  CAM   \n",
       "3             D. Yorke   36   68  Trinidad &amp; Tobago  Right     €0   ST   \n",
       "4              Iniesta   36   81                  Spain  Right  €5.5M  CAM   \n",
       "...                ...  ...  ...                    ...    ...    ...  ...   \n",
       "17120       A. Medioub   22   64                 France  Right  €550K   CB   \n",
       "17121       W. Rickard   18   56                  Wales  Right  €130K  CAM   \n",
       "17122       C. Barrett   18   56                England  Right  €130K   RB   \n",
       "17123   J. Gazibegović   20   62     Bosnia Herzegovina  Right  €475K   RB   \n",
       "17124  Pablo Rodríguez   18   59                  Spain  Right  €325K   ST   \n",
       "\n",
       "      Height  PAC  SHO  PAS  DRI  DEF  PHY  \n",
       "0       6'0\"   71   59   70   71   68   69  \n",
       "1      5'10\"   53   69   73   69   58   63  \n",
       "2       5'9\"   45   68   76   77   36   52  \n",
       "3      5'11\"   61   66   66   69   47   60  \n",
       "4       5'7\"   58   70   85   85   63   59  \n",
       "...      ...  ...  ...  ...  ...  ...  ...  \n",
       "17120   6'6\"   54   30   37   48   64   69  \n",
       "17121  5'10\"   62   46   57   56   43   55  \n",
       "17122   5'9\"   63   35   44   52   54   55  \n",
       "17123   5'9\"   71   34   58   59   59   54  \n",
       "17124  5'10\"   70   62   41   57   16   49  \n",
       "\n",
       "[17125 rows x 14 columns]>"
      ]
     },
     "execution_count": 7,
     "metadata": {},
     "output_type": "execute_result"
    }
   ],
   "source": [
    "df.info"
   ]
  },
  {
   "cell_type": "code",
   "execution_count": 8,
   "metadata": {
    "scrolled": true
   },
   "outputs": [
    {
     "data": {
      "text/plain": [
       "<bound method NDFrame.describe of                   Name  Age  OVA            Nationality   foot  Value   BP  \\\n",
       "0          G. Pasquale   33   69                  Italy   Left  €625K  LWB   \n",
       "1          Luis García   37   71                  Spain  Right  €600K   CM   \n",
       "2              J. Cole   33   71                England  Right  €1.1M  CAM   \n",
       "3             D. Yorke   36   68  Trinidad &amp; Tobago  Right     €0   ST   \n",
       "4              Iniesta   36   81                  Spain  Right  €5.5M  CAM   \n",
       "...                ...  ...  ...                    ...    ...    ...  ...   \n",
       "17120       A. Medioub   22   64                 France  Right  €550K   CB   \n",
       "17121       W. Rickard   18   56                  Wales  Right  €130K  CAM   \n",
       "17122       C. Barrett   18   56                England  Right  €130K   RB   \n",
       "17123   J. Gazibegović   20   62     Bosnia Herzegovina  Right  €475K   RB   \n",
       "17124  Pablo Rodríguez   18   59                  Spain  Right  €325K   ST   \n",
       "\n",
       "      Height  PAC  SHO  PAS  DRI  DEF  PHY  \n",
       "0       6'0\"   71   59   70   71   68   69  \n",
       "1      5'10\"   53   69   73   69   58   63  \n",
       "2       5'9\"   45   68   76   77   36   52  \n",
       "3      5'11\"   61   66   66   69   47   60  \n",
       "4       5'7\"   58   70   85   85   63   59  \n",
       "...      ...  ...  ...  ...  ...  ...  ...  \n",
       "17120   6'6\"   54   30   37   48   64   69  \n",
       "17121  5'10\"   62   46   57   56   43   55  \n",
       "17122   5'9\"   63   35   44   52   54   55  \n",
       "17123   5'9\"   71   34   58   59   59   54  \n",
       "17124  5'10\"   70   62   41   57   16   49  \n",
       "\n",
       "[17125 rows x 14 columns]>"
      ]
     },
     "execution_count": 8,
     "metadata": {},
     "output_type": "execute_result"
    }
   ],
   "source": [
    "df.describe"
   ]
  },
  {
   "cell_type": "markdown",
   "metadata": {},
   "source": [
    "We need to make sur the int object in the database are really int and are not hiding some texts "
   ]
  },
  {
   "cell_type": "code",
   "execution_count": 9,
   "metadata": {
    "scrolled": true
   },
   "outputs": [
    {
     "data": {
      "text/plain": [
       "Name           object\n",
       "Age             int64\n",
       "OVA             int64\n",
       "Nationality    object\n",
       "foot           object\n",
       "Value          object\n",
       "BP             object\n",
       "Height         object\n",
       "PAC             int64\n",
       "SHO             int64\n",
       "PAS             int64\n",
       "DRI             int64\n",
       "DEF             int64\n",
       "PHY             int64\n",
       "dtype: object"
      ]
     },
     "execution_count": 9,
     "metadata": {},
     "output_type": "execute_result"
    }
   ],
   "source": [
    "df.dtypes\n"
   ]
  },
  {
   "cell_type": "markdown",
   "metadata": {},
   "source": [
    "# Age statistics\n",
    "We take first stats about the age of the players over the 17125 players, it gives an idea about the age repartition\n"
   ]
  },
  {
   "cell_type": "code",
   "execution_count": 10,
   "metadata": {},
   "outputs": [
    {
     "data": {
      "text/plain": [
       "count    17125.000000\n",
       "mean        25.272934\n",
       "std          4.942665\n",
       "min         16.000000\n",
       "25%         21.000000\n",
       "50%         25.000000\n",
       "75%         29.000000\n",
       "max         53.000000\n",
       "Name: Age, dtype: float64"
      ]
     },
     "execution_count": 10,
     "metadata": {},
     "output_type": "execute_result"
    }
   ],
   "source": [
    "df['Age'].describe()"
   ]
  },
  {
   "cell_type": "code",
   "execution_count": 11,
   "metadata": {},
   "outputs": [
    {
     "data": {
      "text/plain": [
       "<matplotlib.axes._subplots.AxesSubplot at 0x1e8c489b190>"
      ]
     },
     "execution_count": 11,
     "metadata": {},
     "output_type": "execute_result"
    },
    {
     "data": {
      "image/png": "[encoded data removed]",
      "text/plain": [
       "<Figure size 1008x432 with 1 Axes>"
      ]
     },
     "metadata": {
      "needs_background": "light"
     },
     "output_type": "display_data"
    }
   ],
   "source": [
    "df['Age'].plot(kind='box', vert=False, figsize=(14,6))"
   ]
  },
  {
   "cell_type": "code",
   "execution_count": 12,
   "metadata": {},
   "outputs": [
    {
     "data": {
      "text/plain": [
       "<matplotlib.axes._subplots.AxesSubplot at 0x1e8c440dbb0>"
      ]
     },
     "execution_count": 12,
     "metadata": {},
     "output_type": "execute_result"
    },
    {
     "data": {
      "image/png": "[encoded data removed]",
      "text/plain": [
       "<Figure size 1008x432 with 1 Axes>"
      ]
     },
     "metadata": {
      "needs_background": "light"
     },
     "output_type": "display_data"
    }
   ],
   "source": [
    "\n",
    "df['Age'].plot(kind='density', figsize=(14,6))"
   ]
  },
  {
   "cell_type": "markdown",
   "metadata": {},
   "source": [
    "# Nationality repartition"
   ]
  },
  {
   "cell_type": "code",
   "execution_count": 13,
   "metadata": {
    "scrolled": true
   },
   "outputs": [
    {
     "data": {
      "text/plain": [
       "England              1707\n",
       "Germany              1154\n",
       "Spain                1121\n",
       "France                990\n",
       "Brazil                857\n",
       "                     ... \n",
       "Eritrea                 1\n",
       "Papua New Guinea        1\n",
       "Brunei Darussalam       1\n",
       "Saint Lucia             1\n",
       "Suriname                1\n",
       "Name: Nationality, Length: 167, dtype: int64"
      ]
     },
     "execution_count": 13,
     "metadata": {},
     "output_type": "execute_result"
    }
   ],
   "source": [
    "df['Nationality'].value_counts()\n"
   ]
  },
  {
   "cell_type": "markdown",
   "metadata": {},
   "source": [
    "# Role within the team repartition over all players"
   ]
  },
  {
   "cell_type": "code",
   "execution_count": 14,
   "metadata": {},
   "outputs": [
    {
     "data": {
      "text/plain": [
       "<matplotlib.axes._subplots.AxesSubplot at 0x1e8c5c14190>"
      ]
     },
     "execution_count": 14,
     "metadata": {},
     "output_type": "execute_result"
    },
    {
     "data": {
      "image/png": "[encoded data removed]",
      "text/plain": [
       "<Figure size 432x432 with 1 Axes>"
      ]
     },
     "metadata": {},
     "output_type": "display_data"
    }
   ],
   "source": [
    "df['BP'].value_counts().plot(kind='pie', figsize=(6,6))"
   ]
  },
  {
   "cell_type": "markdown",
   "metadata": {},
   "source": [
    "# Values of players regarding their positions - role"
   ]
  },
  {
   "cell_type": "code",
   "execution_count": 15,
   "metadata": {
    "scrolled": true
   },
   "outputs": [
    {
     "data": {
      "text/plain": [
       "Text(0.5, 0, ' Main Position')"
      ]
     },
     "execution_count": 15,
     "metadata": {},
     "output_type": "execute_result"
    },
    {
     "data": {
      "image/png": "[encoded data removed]",
      "text/plain": [
       "<Figure size 1008x432 with 1 Axes>"
      ]
     },
     "metadata": {
      "needs_background": "light"
     },
     "output_type": "display_data"
    }
   ],
   "source": [
    "ax = df['BP'].value_counts().plot(kind='bar', figsize=(14,6))\n",
    "ax.set_ylabel('Value')\n",
    "ax.set_xlabel(' Main Position')"
   ]
  },
  {
   "cell_type": "markdown",
   "metadata": {},
   "source": [
    "# Study of the more intresting statistics to have to be a good player at a specific position : CENTER BACK case "
   ]
  },
  {
   "cell_type": "code",
   "execution_count": 16,
   "metadata": {
    "scrolled": true
   },
   "outputs": [
    {
     "data": {
      "text/html": [
       "<div>\n",
       "<style scoped>\n",
       "    .dataframe tbody tr th:only-of-type {\n",
       "        vertical-align: middle;\n",
       "    }\n",
       "\n",
       "    .dataframe tbody tr th {\n",
       "        vertical-align: top;\n",
       "    }\n",
       "\n",
       "    .dataframe thead th {\n",
       "        text-align: right;\n",
       "    }\n",
       "</style>\n",
       "<table border=\"1\" class=\"dataframe\">\n",
       "  <thead>\n",
       "    <tr style=\"text-align: right;\">\n",
       "      <th></th>\n",
       "      <th>Name</th>\n",
       "      <th>Age</th>\n",
       "      <th>OVA</th>\n",
       "      <th>Nationality</th>\n",
       "      <th>foot</th>\n",
       "      <th>Value</th>\n",
       "      <th>BP</th>\n",
       "      <th>Height</th>\n",
       "      <th>PAC</th>\n",
       "      <th>SHO</th>\n",
       "      <th>PAS</th>\n",
       "      <th>DRI</th>\n",
       "      <th>DEF</th>\n",
       "      <th>PHY</th>\n",
       "    </tr>\n",
       "  </thead>\n",
       "  <tbody>\n",
       "    <tr>\n",
       "      <th>8</th>\n",
       "      <td>G. Neville  B</td>\n",
       "      <td>35</td>\n",
       "      <td>76</td>\n",
       "      <td>England</td>\n",
       "      <td>Right</td>\n",
       "      <td>€0</td>\n",
       "      <td>CB</td>\n",
       "      <td>5'10\"</td>\n",
       "      <td>67</td>\n",
       "      <td>36</td>\n",
       "      <td>67</td>\n",
       "      <td>53</td>\n",
       "      <td>81</td>\n",
       "      <td>74</td>\n",
       "    </tr>\n",
       "    <tr>\n",
       "      <th>10</th>\n",
       "      <td>P. Neville</td>\n",
       "      <td>35</td>\n",
       "      <td>74</td>\n",
       "      <td>England</td>\n",
       "      <td>Right</td>\n",
       "      <td>€120K</td>\n",
       "      <td>CB</td>\n",
       "      <td>5'11\"</td>\n",
       "      <td>51</td>\n",
       "      <td>53</td>\n",
       "      <td>67</td>\n",
       "      <td>62</td>\n",
       "      <td>76</td>\n",
       "      <td>72</td>\n",
       "    </tr>\n",
       "    <tr>\n",
       "      <th>13</th>\n",
       "      <td>S. Campbell</td>\n",
       "      <td>35</td>\n",
       "      <td>75</td>\n",
       "      <td>England</td>\n",
       "      <td>Right</td>\n",
       "      <td>€0</td>\n",
       "      <td>CB</td>\n",
       "      <td>6'2\"</td>\n",
       "      <td>65</td>\n",
       "      <td>34</td>\n",
       "      <td>43</td>\n",
       "      <td>48</td>\n",
       "      <td>76</td>\n",
       "      <td>81</td>\n",
       "    </tr>\n",
       "    <tr>\n",
       "      <th>15</th>\n",
       "      <td>D. Hamann</td>\n",
       "      <td>36</td>\n",
       "      <td>61</td>\n",
       "      <td>Germany</td>\n",
       "      <td>Right</td>\n",
       "      <td>€0</td>\n",
       "      <td>CB</td>\n",
       "      <td>6'2\"</td>\n",
       "      <td>42</td>\n",
       "      <td>51</td>\n",
       "      <td>68</td>\n",
       "      <td>46</td>\n",
       "      <td>69</td>\n",
       "      <td>67</td>\n",
       "    </tr>\n",
       "    <tr>\n",
       "      <th>24</th>\n",
       "      <td>A. Nesta</td>\n",
       "      <td>37</td>\n",
       "      <td>73</td>\n",
       "      <td>Italy</td>\n",
       "      <td>Right</td>\n",
       "      <td>€0</td>\n",
       "      <td>CB</td>\n",
       "      <td>6'2\"</td>\n",
       "      <td>41</td>\n",
       "      <td>32</td>\n",
       "      <td>54</td>\n",
       "      <td>58</td>\n",
       "      <td>75</td>\n",
       "      <td>62</td>\n",
       "    </tr>\n",
       "    <tr>\n",
       "      <th>...</th>\n",
       "      <td>...</td>\n",
       "      <td>...</td>\n",
       "      <td>...</td>\n",
       "      <td>...</td>\n",
       "      <td>...</td>\n",
       "      <td>...</td>\n",
       "      <td>...</td>\n",
       "      <td>...</td>\n",
       "      <td>...</td>\n",
       "      <td>...</td>\n",
       "      <td>...</td>\n",
       "      <td>...</td>\n",
       "      <td>...</td>\n",
       "      <td>...</td>\n",
       "    </tr>\n",
       "    <tr>\n",
       "      <th>17107</th>\n",
       "      <td>F. Boyomo</td>\n",
       "      <td>18</td>\n",
       "      <td>60</td>\n",
       "      <td>France</td>\n",
       "      <td>Right</td>\n",
       "      <td>€400K</td>\n",
       "      <td>CB</td>\n",
       "      <td>6'0\"</td>\n",
       "      <td>65</td>\n",
       "      <td>30</td>\n",
       "      <td>38</td>\n",
       "      <td>39</td>\n",
       "      <td>62</td>\n",
       "      <td>62</td>\n",
       "    </tr>\n",
       "    <tr>\n",
       "      <th>17108</th>\n",
       "      <td>I. Kébé</td>\n",
       "      <td>19</td>\n",
       "      <td>63</td>\n",
       "      <td>Mali</td>\n",
       "      <td>Right</td>\n",
       "      <td>€525K</td>\n",
       "      <td>CB</td>\n",
       "      <td>6'1\"</td>\n",
       "      <td>65</td>\n",
       "      <td>46</td>\n",
       "      <td>55</td>\n",
       "      <td>57</td>\n",
       "      <td>60</td>\n",
       "      <td>74</td>\n",
       "    </tr>\n",
       "    <tr>\n",
       "      <th>17112</th>\n",
       "      <td>A. Hajdari</td>\n",
       "      <td>17</td>\n",
       "      <td>53</td>\n",
       "      <td>Switzerland</td>\n",
       "      <td>Left</td>\n",
       "      <td>€120K</td>\n",
       "      <td>CB</td>\n",
       "      <td>6'2\"</td>\n",
       "      <td>60</td>\n",
       "      <td>25</td>\n",
       "      <td>30</td>\n",
       "      <td>29</td>\n",
       "      <td>53</td>\n",
       "      <td>62</td>\n",
       "    </tr>\n",
       "    <tr>\n",
       "      <th>17116</th>\n",
       "      <td>J. Lawrence</td>\n",
       "      <td>17</td>\n",
       "      <td>52</td>\n",
       "      <td>Germany</td>\n",
       "      <td>Right</td>\n",
       "      <td>€100K</td>\n",
       "      <td>CB</td>\n",
       "      <td>6'7\"</td>\n",
       "      <td>61</td>\n",
       "      <td>21</td>\n",
       "      <td>30</td>\n",
       "      <td>32</td>\n",
       "      <td>50</td>\n",
       "      <td>67</td>\n",
       "    </tr>\n",
       "    <tr>\n",
       "      <th>17120</th>\n",
       "      <td>A. Medioub</td>\n",
       "      <td>22</td>\n",
       "      <td>64</td>\n",
       "      <td>France</td>\n",
       "      <td>Right</td>\n",
       "      <td>€550K</td>\n",
       "      <td>CB</td>\n",
       "      <td>6'6\"</td>\n",
       "      <td>54</td>\n",
       "      <td>30</td>\n",
       "      <td>37</td>\n",
       "      <td>48</td>\n",
       "      <td>64</td>\n",
       "      <td>69</td>\n",
       "    </tr>\n",
       "  </tbody>\n",
       "</table>\n",
       "<p>3252 rows × 14 columns</p>\n",
       "</div>"
      ],
      "text/plain": [
       "                Name  Age  OVA  Nationality   foot  Value  BP Height  PAC  \\\n",
       "8      G. Neville  B   35   76      England  Right     €0  CB  5'10\"   67   \n",
       "10        P. Neville   35   74      England  Right  €120K  CB  5'11\"   51   \n",
       "13       S. Campbell   35   75      England  Right     €0  CB   6'2\"   65   \n",
       "15         D. Hamann   36   61      Germany  Right     €0  CB   6'2\"   42   \n",
       "24          A. Nesta   37   73        Italy  Right     €0  CB   6'2\"   41   \n",
       "...              ...  ...  ...          ...    ...    ...  ..    ...  ...   \n",
       "17107      F. Boyomo   18   60       France  Right  €400K  CB   6'0\"   65   \n",
       "17108        I. Kébé   19   63         Mali  Right  €525K  CB   6'1\"   65   \n",
       "17112     A. Hajdari   17   53  Switzerland   Left  €120K  CB   6'2\"   60   \n",
       "17116    J. Lawrence   17   52      Germany  Right  €100K  CB   6'7\"   61   \n",
       "17120     A. Medioub   22   64       France  Right  €550K  CB   6'6\"   54   \n",
       "\n",
       "       SHO  PAS  DRI  DEF  PHY  \n",
       "8       36   67   53   81   74  \n",
       "10      53   67   62   76   72  \n",
       "13      34   43   48   76   81  \n",
       "15      51   68   46   69   67  \n",
       "24      32   54   58   75   62  \n",
       "...    ...  ...  ...  ...  ...  \n",
       "17107   30   38   39   62   62  \n",
       "17108   46   55   57   60   74  \n",
       "17112   25   30   29   53   62  \n",
       "17116   21   30   32   50   67  \n",
       "17120   30   37   48   64   69  \n",
       "\n",
       "[3252 rows x 14 columns]"
      ]
     },
     "execution_count": 16,
     "metadata": {},
     "output_type": "execute_result"
    }
   ],
   "source": [
    "df[df['BP'] == 'CB'] # keep only Center Back"
   ]
  },
  {
   "cell_type": "markdown",
   "metadata": {},
   "source": [
    "Creation of the correlation matrix to find the most interesting abilities to have for the CB position"
   ]
  },
  {
   "cell_type": "code",
   "execution_count": 17,
   "metadata": {
    "scrolled": false
   },
   "outputs": [
    {
     "data": {
      "text/html": [
       "<div>\n",
       "<style scoped>\n",
       "    .dataframe tbody tr th:only-of-type {\n",
       "        vertical-align: middle;\n",
       "    }\n",
       "\n",
       "    .dataframe tbody tr th {\n",
       "        vertical-align: top;\n",
       "    }\n",
       "\n",
       "    .dataframe thead th {\n",
       "        text-align: right;\n",
       "    }\n",
       "</style>\n",
       "<table border=\"1\" class=\"dataframe\">\n",
       "  <thead>\n",
       "    <tr style=\"text-align: right;\">\n",
       "      <th></th>\n",
       "      <th>Age</th>\n",
       "      <th>OVA</th>\n",
       "      <th>PAC</th>\n",
       "      <th>SHO</th>\n",
       "      <th>PAS</th>\n",
       "      <th>DRI</th>\n",
       "      <th>DEF</th>\n",
       "      <th>PHY</th>\n",
       "    </tr>\n",
       "  </thead>\n",
       "  <tbody>\n",
       "    <tr>\n",
       "      <th>Age</th>\n",
       "      <td>1.000000</td>\n",
       "      <td>0.529787</td>\n",
       "      <td>-0.374353</td>\n",
       "      <td>0.418593</td>\n",
       "      <td>0.423466</td>\n",
       "      <td>0.266976</td>\n",
       "      <td>0.509335</td>\n",
       "      <td>0.439908</td>\n",
       "    </tr>\n",
       "    <tr>\n",
       "      <th>OVA</th>\n",
       "      <td>0.529787</td>\n",
       "      <td>1.000000</td>\n",
       "      <td>0.035674</td>\n",
       "      <td>0.490978</td>\n",
       "      <td>0.675991</td>\n",
       "      <td>0.605239</td>\n",
       "      <td>0.974365</td>\n",
       "      <td>0.693040</td>\n",
       "    </tr>\n",
       "    <tr>\n",
       "      <th>PAC</th>\n",
       "      <td>-0.374353</td>\n",
       "      <td>0.035674</td>\n",
       "      <td>1.000000</td>\n",
       "      <td>0.019984</td>\n",
       "      <td>0.124825</td>\n",
       "      <td>0.316408</td>\n",
       "      <td>-0.002463</td>\n",
       "      <td>0.028055</td>\n",
       "    </tr>\n",
       "    <tr>\n",
       "      <th>SHO</th>\n",
       "      <td>0.418593</td>\n",
       "      <td>0.490978</td>\n",
       "      <td>0.019984</td>\n",
       "      <td>1.000000</td>\n",
       "      <td>0.744756</td>\n",
       "      <td>0.632755</td>\n",
       "      <td>0.444529</td>\n",
       "      <td>0.399330</td>\n",
       "    </tr>\n",
       "    <tr>\n",
       "      <th>PAS</th>\n",
       "      <td>0.423466</td>\n",
       "      <td>0.675991</td>\n",
       "      <td>0.124825</td>\n",
       "      <td>0.744756</td>\n",
       "      <td>1.000000</td>\n",
       "      <td>0.837384</td>\n",
       "      <td>0.622326</td>\n",
       "      <td>0.438624</td>\n",
       "    </tr>\n",
       "    <tr>\n",
       "      <th>DRI</th>\n",
       "      <td>0.266976</td>\n",
       "      <td>0.605239</td>\n",
       "      <td>0.316408</td>\n",
       "      <td>0.632755</td>\n",
       "      <td>0.837384</td>\n",
       "      <td>1.000000</td>\n",
       "      <td>0.550097</td>\n",
       "      <td>0.377414</td>\n",
       "    </tr>\n",
       "    <tr>\n",
       "      <th>DEF</th>\n",
       "      <td>0.509335</td>\n",
       "      <td>0.974365</td>\n",
       "      <td>-0.002463</td>\n",
       "      <td>0.444529</td>\n",
       "      <td>0.622326</td>\n",
       "      <td>0.550097</td>\n",
       "      <td>1.000000</td>\n",
       "      <td>0.586623</td>\n",
       "    </tr>\n",
       "    <tr>\n",
       "      <th>PHY</th>\n",
       "      <td>0.439908</td>\n",
       "      <td>0.693040</td>\n",
       "      <td>0.028055</td>\n",
       "      <td>0.399330</td>\n",
       "      <td>0.438624</td>\n",
       "      <td>0.377414</td>\n",
       "      <td>0.586623</td>\n",
       "      <td>1.000000</td>\n",
       "    </tr>\n",
       "  </tbody>\n",
       "</table>\n",
       "</div>"
      ],
      "text/plain": [
       "          Age       OVA       PAC       SHO       PAS       DRI       DEF  \\\n",
       "Age  1.000000  0.529787 -0.374353  0.418593  0.423466  0.266976  0.509335   \n",
       "OVA  0.529787  1.000000  0.035674  0.490978  0.675991  0.605239  0.974365   \n",
       "PAC -0.374353  0.035674  1.000000  0.019984  0.124825  0.316408 -0.002463   \n",
       "SHO  0.418593  0.490978  0.019984  1.000000  0.744756  0.632755  0.444529   \n",
       "PAS  0.423466  0.675991  0.124825  0.744756  1.000000  0.837384  0.622326   \n",
       "DRI  0.266976  0.605239  0.316408  0.632755  0.837384  1.000000  0.550097   \n",
       "DEF  0.509335  0.974365 -0.002463  0.444529  0.622326  0.550097  1.000000   \n",
       "PHY  0.439908  0.693040  0.028055  0.399330  0.438624  0.377414  0.586623   \n",
       "\n",
       "          PHY  \n",
       "Age  0.439908  \n",
       "OVA  0.693040  \n",
       "PAC  0.028055  \n",
       "SHO  0.399330  \n",
       "PAS  0.438624  \n",
       "DRI  0.377414  \n",
       "DEF  0.586623  \n",
       "PHY  1.000000  "
      ]
     },
     "execution_count": 17,
     "metadata": {},
     "output_type": "execute_result"
    }
   ],
   "source": [
    "\n",
    "corr = df[df['BP'] == 'CB'].corr() #Correlation matrix for CB player\n",
    "corr"
   ]
  },
  {
   "cell_type": "markdown",
   "metadata": {},
   "source": [
    "We plot the correlatino matrix"
   ]
  },
  {
   "cell_type": "code",
   "execution_count": 18,
   "metadata": {
    "scrolled": true
   },
   "outputs": [
    {
     "data": {
      "image/png": "[encoded data removed]",
      "text/plain": [
       "<Figure size 576x576 with 1 Axes>"
      ]
     },
     "metadata": {
      "needs_background": "light"
     },
     "output_type": "display_data"
    }
   ],
   "source": [
    "fig = plt.figure(figsize=(8,8))\n",
    "plt.matshow(corr, cmap='RdBu', fignum=fig.number)\n",
    "plt.xticks(range(len(corr.columns)), corr.columns, rotation='vertical');\n",
    "plt.yticks(range(len(corr.columns)), corr.columns);"
   ]
  },
  {
   "cell_type": "markdown",
   "metadata": {},
   "source": [
    "# Study of the more intresting statistics to have to be a good player at a specific position : Striker case "
   ]
  },
  {
   "cell_type": "code",
   "execution_count": 19,
   "metadata": {},
   "outputs": [
    {
     "data": {
      "text/html": [
       "<div>\n",
       "<style scoped>\n",
       "    .dataframe tbody tr th:only-of-type {\n",
       "        vertical-align: middle;\n",
       "    }\n",
       "\n",
       "    .dataframe tbody tr th {\n",
       "        vertical-align: top;\n",
       "    }\n",
       "\n",
       "    .dataframe thead th {\n",
       "        text-align: right;\n",
       "    }\n",
       "</style>\n",
       "<table border=\"1\" class=\"dataframe\">\n",
       "  <thead>\n",
       "    <tr style=\"text-align: right;\">\n",
       "      <th></th>\n",
       "      <th>Age</th>\n",
       "      <th>OVA</th>\n",
       "      <th>PAC</th>\n",
       "      <th>SHO</th>\n",
       "      <th>PAS</th>\n",
       "      <th>DRI</th>\n",
       "      <th>DEF</th>\n",
       "      <th>PHY</th>\n",
       "    </tr>\n",
       "  </thead>\n",
       "  <tbody>\n",
       "    <tr>\n",
       "      <th>Age</th>\n",
       "      <td>1.000000</td>\n",
       "      <td>0.547278</td>\n",
       "      <td>-0.251718</td>\n",
       "      <td>0.559174</td>\n",
       "      <td>0.530413</td>\n",
       "      <td>0.362393</td>\n",
       "      <td>0.432623</td>\n",
       "      <td>0.510871</td>\n",
       "    </tr>\n",
       "    <tr>\n",
       "      <th>OVA</th>\n",
       "      <td>0.547278</td>\n",
       "      <td>1.000000</td>\n",
       "      <td>0.152345</td>\n",
       "      <td>0.955968</td>\n",
       "      <td>0.795983</td>\n",
       "      <td>0.853714</td>\n",
       "      <td>0.468753</td>\n",
       "      <td>0.627509</td>\n",
       "    </tr>\n",
       "    <tr>\n",
       "      <th>PAC</th>\n",
       "      <td>-0.251718</td>\n",
       "      <td>0.152345</td>\n",
       "      <td>1.000000</td>\n",
       "      <td>0.023530</td>\n",
       "      <td>0.133801</td>\n",
       "      <td>0.389449</td>\n",
       "      <td>-0.017636</td>\n",
       "      <td>-0.023109</td>\n",
       "    </tr>\n",
       "    <tr>\n",
       "      <th>SHO</th>\n",
       "      <td>0.559174</td>\n",
       "      <td>0.955968</td>\n",
       "      <td>0.023530</td>\n",
       "      <td>1.000000</td>\n",
       "      <td>0.758879</td>\n",
       "      <td>0.780660</td>\n",
       "      <td>0.426792</td>\n",
       "      <td>0.559430</td>\n",
       "    </tr>\n",
       "    <tr>\n",
       "      <th>PAS</th>\n",
       "      <td>0.530413</td>\n",
       "      <td>0.795983</td>\n",
       "      <td>0.133801</td>\n",
       "      <td>0.758879</td>\n",
       "      <td>1.000000</td>\n",
       "      <td>0.788968</td>\n",
       "      <td>0.579903</td>\n",
       "      <td>0.455294</td>\n",
       "    </tr>\n",
       "    <tr>\n",
       "      <th>DRI</th>\n",
       "      <td>0.362393</td>\n",
       "      <td>0.853714</td>\n",
       "      <td>0.389449</td>\n",
       "      <td>0.780660</td>\n",
       "      <td>0.788968</td>\n",
       "      <td>1.000000</td>\n",
       "      <td>0.384221</td>\n",
       "      <td>0.379788</td>\n",
       "    </tr>\n",
       "    <tr>\n",
       "      <th>DEF</th>\n",
       "      <td>0.432623</td>\n",
       "      <td>0.468753</td>\n",
       "      <td>-0.017636</td>\n",
       "      <td>0.426792</td>\n",
       "      <td>0.579903</td>\n",
       "      <td>0.384221</td>\n",
       "      <td>1.000000</td>\n",
       "      <td>0.496999</td>\n",
       "    </tr>\n",
       "    <tr>\n",
       "      <th>PHY</th>\n",
       "      <td>0.510871</td>\n",
       "      <td>0.627509</td>\n",
       "      <td>-0.023109</td>\n",
       "      <td>0.559430</td>\n",
       "      <td>0.455294</td>\n",
       "      <td>0.379788</td>\n",
       "      <td>0.496999</td>\n",
       "      <td>1.000000</td>\n",
       "    </tr>\n",
       "  </tbody>\n",
       "</table>\n",
       "</div>"
      ],
      "text/plain": [
       "          Age       OVA       PAC       SHO       PAS       DRI       DEF  \\\n",
       "Age  1.000000  0.547278 -0.251718  0.559174  0.530413  0.362393  0.432623   \n",
       "OVA  0.547278  1.000000  0.152345  0.955968  0.795983  0.853714  0.468753   \n",
       "PAC -0.251718  0.152345  1.000000  0.023530  0.133801  0.389449 -0.017636   \n",
       "SHO  0.559174  0.955968  0.023530  1.000000  0.758879  0.780660  0.426792   \n",
       "PAS  0.530413  0.795983  0.133801  0.758879  1.000000  0.788968  0.579903   \n",
       "DRI  0.362393  0.853714  0.389449  0.780660  0.788968  1.000000  0.384221   \n",
       "DEF  0.432623  0.468753 -0.017636  0.426792  0.579903  0.384221  1.000000   \n",
       "PHY  0.510871  0.627509 -0.023109  0.559430  0.455294  0.379788  0.496999   \n",
       "\n",
       "          PHY  \n",
       "Age  0.510871  \n",
       "OVA  0.627509  \n",
       "PAC -0.023109  \n",
       "SHO  0.559430  \n",
       "PAS  0.455294  \n",
       "DRI  0.379788  \n",
       "DEF  0.496999  \n",
       "PHY  1.000000  "
      ]
     },
     "execution_count": 19,
     "metadata": {},
     "output_type": "execute_result"
    }
   ],
   "source": [
    "\n",
    "corr = df[df['BP'] == 'ST'].corr() #Correlation matrix for Striker player\n",
    "corr"
   ]
  },
  {
   "cell_type": "code",
   "execution_count": 20,
   "metadata": {
    "scrolled": true
   },
   "outputs": [
    {
     "data": {
      "image/png": "[encoded data removed]",
      "text/plain": [
       "<Figure size 576x576 with 1 Axes>"
      ]
     },
     "metadata": {
      "needs_background": "light"
     },
     "output_type": "display_data"
    }
   ],
   "source": [
    "fig = plt.figure(figsize=(8,8))\n",
    "plt.matshow(corr, cmap='RdBu', fignum=fig.number)\n",
    "plt.xticks(range(len(corr.columns)), corr.columns, rotation='vertical');\n",
    "plt.yticks(range(len(corr.columns)), corr.columns);"
   ]
  },
  {
   "cell_type": "markdown",
   "metadata": {},
   "source": [
    "# Study of the more intresting statistics to have to be a good player at a specific position : Goal Keeper case "
   ]
  },
  {
   "cell_type": "code",
   "execution_count": 21,
   "metadata": {
    "scrolled": true
   },
   "outputs": [
    {
     "data": {
      "text/html": [
       "<div>\n",
       "<style scoped>\n",
       "    .dataframe tbody tr th:only-of-type {\n",
       "        vertical-align: middle;\n",
       "    }\n",
       "\n",
       "    .dataframe tbody tr th {\n",
       "        vertical-align: top;\n",
       "    }\n",
       "\n",
       "    .dataframe thead th {\n",
       "        text-align: right;\n",
       "    }\n",
       "</style>\n",
       "<table border=\"1\" class=\"dataframe\">\n",
       "  <thead>\n",
       "    <tr style=\"text-align: right;\">\n",
       "      <th></th>\n",
       "      <th>Age</th>\n",
       "      <th>OVA</th>\n",
       "      <th>PAC</th>\n",
       "      <th>SHO</th>\n",
       "      <th>PAS</th>\n",
       "      <th>DRI</th>\n",
       "      <th>DEF</th>\n",
       "      <th>PHY</th>\n",
       "    </tr>\n",
       "  </thead>\n",
       "  <tbody>\n",
       "    <tr>\n",
       "      <th>Age</th>\n",
       "      <td>1.000000</td>\n",
       "      <td>0.527505</td>\n",
       "      <td>0.445297</td>\n",
       "      <td>0.506238</td>\n",
       "      <td>0.413328</td>\n",
       "      <td>0.418761</td>\n",
       "      <td>0.357883</td>\n",
       "      <td>0.587052</td>\n",
       "    </tr>\n",
       "    <tr>\n",
       "      <th>OVA</th>\n",
       "      <td>0.527505</td>\n",
       "      <td>1.000000</td>\n",
       "      <td>0.953128</td>\n",
       "      <td>0.938328</td>\n",
       "      <td>0.784211</td>\n",
       "      <td>0.948738</td>\n",
       "      <td>0.496896</td>\n",
       "      <td>0.945512</td>\n",
       "    </tr>\n",
       "    <tr>\n",
       "      <th>PAC</th>\n",
       "      <td>0.445297</td>\n",
       "      <td>0.953128</td>\n",
       "      <td>1.000000</td>\n",
       "      <td>0.862122</td>\n",
       "      <td>0.724932</td>\n",
       "      <td>0.924916</td>\n",
       "      <td>0.488596</td>\n",
       "      <td>0.861987</td>\n",
       "    </tr>\n",
       "    <tr>\n",
       "      <th>SHO</th>\n",
       "      <td>0.506238</td>\n",
       "      <td>0.938328</td>\n",
       "      <td>0.862122</td>\n",
       "      <td>1.000000</td>\n",
       "      <td>0.746493</td>\n",
       "      <td>0.846288</td>\n",
       "      <td>0.429385</td>\n",
       "      <td>0.894398</td>\n",
       "    </tr>\n",
       "    <tr>\n",
       "      <th>PAS</th>\n",
       "      <td>0.413328</td>\n",
       "      <td>0.784211</td>\n",
       "      <td>0.724932</td>\n",
       "      <td>0.746493</td>\n",
       "      <td>1.000000</td>\n",
       "      <td>0.708991</td>\n",
       "      <td>0.417897</td>\n",
       "      <td>0.737779</td>\n",
       "    </tr>\n",
       "    <tr>\n",
       "      <th>DRI</th>\n",
       "      <td>0.418761</td>\n",
       "      <td>0.948738</td>\n",
       "      <td>0.924916</td>\n",
       "      <td>0.846288</td>\n",
       "      <td>0.708991</td>\n",
       "      <td>1.000000</td>\n",
       "      <td>0.484203</td>\n",
       "      <td>0.853994</td>\n",
       "    </tr>\n",
       "    <tr>\n",
       "      <th>DEF</th>\n",
       "      <td>0.357883</td>\n",
       "      <td>0.496896</td>\n",
       "      <td>0.488596</td>\n",
       "      <td>0.429385</td>\n",
       "      <td>0.417897</td>\n",
       "      <td>0.484203</td>\n",
       "      <td>1.000000</td>\n",
       "      <td>0.439938</td>\n",
       "    </tr>\n",
       "    <tr>\n",
       "      <th>PHY</th>\n",
       "      <td>0.587052</td>\n",
       "      <td>0.945512</td>\n",
       "      <td>0.861987</td>\n",
       "      <td>0.894398</td>\n",
       "      <td>0.737779</td>\n",
       "      <td>0.853994</td>\n",
       "      <td>0.439938</td>\n",
       "      <td>1.000000</td>\n",
       "    </tr>\n",
       "  </tbody>\n",
       "</table>\n",
       "</div>"
      ],
      "text/plain": [
       "          Age       OVA       PAC       SHO       PAS       DRI       DEF  \\\n",
       "Age  1.000000  0.527505  0.445297  0.506238  0.413328  0.418761  0.357883   \n",
       "OVA  0.527505  1.000000  0.953128  0.938328  0.784211  0.948738  0.496896   \n",
       "PAC  0.445297  0.953128  1.000000  0.862122  0.724932  0.924916  0.488596   \n",
       "SHO  0.506238  0.938328  0.862122  1.000000  0.746493  0.846288  0.429385   \n",
       "PAS  0.413328  0.784211  0.724932  0.746493  1.000000  0.708991  0.417897   \n",
       "DRI  0.418761  0.948738  0.924916  0.846288  0.708991  1.000000  0.484203   \n",
       "DEF  0.357883  0.496896  0.488596  0.429385  0.417897  0.484203  1.000000   \n",
       "PHY  0.587052  0.945512  0.861987  0.894398  0.737779  0.853994  0.439938   \n",
       "\n",
       "          PHY  \n",
       "Age  0.587052  \n",
       "OVA  0.945512  \n",
       "PAC  0.861987  \n",
       "SHO  0.894398  \n",
       "PAS  0.737779  \n",
       "DRI  0.853994  \n",
       "DEF  0.439938  \n",
       "PHY  1.000000  "
      ]
     },
     "execution_count": 21,
     "metadata": {},
     "output_type": "execute_result"
    }
   ],
   "source": [
    "\n",
    "corr = df[df['BP'] == 'GK'].corr() #Correlation matrix for Goal Keeper player\n",
    "corr"
   ]
  },
  {
   "cell_type": "code",
   "execution_count": 22,
   "metadata": {
    "scrolled": true
   },
   "outputs": [
    {
     "data": {
      "image/png": "[encoded data removed]",
      "text/plain": [
       "<Figure size 576x576 with 1 Axes>"
      ]
     },
     "metadata": {
      "needs_background": "light"
     },
     "output_type": "display_data"
    }
   ],
   "source": [
    "fig = plt.figure(figsize=(8,8))\n",
    "plt.matshow(corr, cmap='RdBu', fignum=fig.number)\n",
    "plt.xticks(range(len(corr.columns)), corr.columns, rotation='vertical');\n",
    "plt.yticks(range(len(corr.columns)), corr.columns);"
   ]
  },
  {
   "cell_type": "markdown",
   "metadata": {},
   "source": [
    "# Study of the more intresting statistics to have to be a good player at a specific position : Right wing case "
   ]
  },
  {
   "cell_type": "code",
   "execution_count": 23,
   "metadata": {},
   "outputs": [
    {
     "data": {
      "text/html": [
       "<div>\n",
       "<style scoped>\n",
       "    .dataframe tbody tr th:only-of-type {\n",
       "        vertical-align: middle;\n",
       "    }\n",
       "\n",
       "    .dataframe tbody tr th {\n",
       "        vertical-align: top;\n",
       "    }\n",
       "\n",
       "    .dataframe thead th {\n",
       "        text-align: right;\n",
       "    }\n",
       "</style>\n",
       "<table border=\"1\" class=\"dataframe\">\n",
       "  <thead>\n",
       "    <tr style=\"text-align: right;\">\n",
       "      <th></th>\n",
       "      <th>Age</th>\n",
       "      <th>OVA</th>\n",
       "      <th>PAC</th>\n",
       "      <th>SHO</th>\n",
       "      <th>PAS</th>\n",
       "      <th>DRI</th>\n",
       "      <th>DEF</th>\n",
       "      <th>PHY</th>\n",
       "    </tr>\n",
       "  </thead>\n",
       "  <tbody>\n",
       "    <tr>\n",
       "      <th>Age</th>\n",
       "      <td>1.000000</td>\n",
       "      <td>0.436189</td>\n",
       "      <td>-0.007214</td>\n",
       "      <td>0.488122</td>\n",
       "      <td>0.540480</td>\n",
       "      <td>0.349068</td>\n",
       "      <td>0.348135</td>\n",
       "      <td>0.476731</td>\n",
       "    </tr>\n",
       "    <tr>\n",
       "      <th>OVA</th>\n",
       "      <td>0.436189</td>\n",
       "      <td>1.000000</td>\n",
       "      <td>0.349613</td>\n",
       "      <td>0.894633</td>\n",
       "      <td>0.908605</td>\n",
       "      <td>0.928702</td>\n",
       "      <td>0.431723</td>\n",
       "      <td>0.498009</td>\n",
       "    </tr>\n",
       "    <tr>\n",
       "      <th>PAC</th>\n",
       "      <td>-0.007214</td>\n",
       "      <td>0.349613</td>\n",
       "      <td>1.000000</td>\n",
       "      <td>0.209543</td>\n",
       "      <td>0.096315</td>\n",
       "      <td>0.349675</td>\n",
       "      <td>0.080279</td>\n",
       "      <td>0.234437</td>\n",
       "    </tr>\n",
       "    <tr>\n",
       "      <th>SHO</th>\n",
       "      <td>0.488122</td>\n",
       "      <td>0.894633</td>\n",
       "      <td>0.209543</td>\n",
       "      <td>1.000000</td>\n",
       "      <td>0.850873</td>\n",
       "      <td>0.803825</td>\n",
       "      <td>0.376696</td>\n",
       "      <td>0.525399</td>\n",
       "    </tr>\n",
       "    <tr>\n",
       "      <th>PAS</th>\n",
       "      <td>0.540480</td>\n",
       "      <td>0.908605</td>\n",
       "      <td>0.096315</td>\n",
       "      <td>0.850873</td>\n",
       "      <td>1.000000</td>\n",
       "      <td>0.799802</td>\n",
       "      <td>0.483203</td>\n",
       "      <td>0.482989</td>\n",
       "    </tr>\n",
       "    <tr>\n",
       "      <th>DRI</th>\n",
       "      <td>0.349068</td>\n",
       "      <td>0.928702</td>\n",
       "      <td>0.349675</td>\n",
       "      <td>0.803825</td>\n",
       "      <td>0.799802</td>\n",
       "      <td>1.000000</td>\n",
       "      <td>0.370220</td>\n",
       "      <td>0.341108</td>\n",
       "    </tr>\n",
       "    <tr>\n",
       "      <th>DEF</th>\n",
       "      <td>0.348135</td>\n",
       "      <td>0.431723</td>\n",
       "      <td>0.080279</td>\n",
       "      <td>0.376696</td>\n",
       "      <td>0.483203</td>\n",
       "      <td>0.370220</td>\n",
       "      <td>1.000000</td>\n",
       "      <td>0.430682</td>\n",
       "    </tr>\n",
       "    <tr>\n",
       "      <th>PHY</th>\n",
       "      <td>0.476731</td>\n",
       "      <td>0.498009</td>\n",
       "      <td>0.234437</td>\n",
       "      <td>0.525399</td>\n",
       "      <td>0.482989</td>\n",
       "      <td>0.341108</td>\n",
       "      <td>0.430682</td>\n",
       "      <td>1.000000</td>\n",
       "    </tr>\n",
       "  </tbody>\n",
       "</table>\n",
       "</div>"
      ],
      "text/plain": [
       "          Age       OVA       PAC       SHO       PAS       DRI       DEF  \\\n",
       "Age  1.000000  0.436189 -0.007214  0.488122  0.540480  0.349068  0.348135   \n",
       "OVA  0.436189  1.000000  0.349613  0.894633  0.908605  0.928702  0.431723   \n",
       "PAC -0.007214  0.349613  1.000000  0.209543  0.096315  0.349675  0.080279   \n",
       "SHO  0.488122  0.894633  0.209543  1.000000  0.850873  0.803825  0.376696   \n",
       "PAS  0.540480  0.908605  0.096315  0.850873  1.000000  0.799802  0.483203   \n",
       "DRI  0.349068  0.928702  0.349675  0.803825  0.799802  1.000000  0.370220   \n",
       "DEF  0.348135  0.431723  0.080279  0.376696  0.483203  0.370220  1.000000   \n",
       "PHY  0.476731  0.498009  0.234437  0.525399  0.482989  0.341108  0.430682   \n",
       "\n",
       "          PHY  \n",
       "Age  0.476731  \n",
       "OVA  0.498009  \n",
       "PAC  0.234437  \n",
       "SHO  0.525399  \n",
       "PAS  0.482989  \n",
       "DRI  0.341108  \n",
       "DEF  0.430682  \n",
       "PHY  1.000000  "
      ]
     },
     "execution_count": 23,
     "metadata": {},
     "output_type": "execute_result"
    }
   ],
   "source": [
    "corr = df[df['BP'] == 'RW'].corr() #Correlation matrix for Goal Keeper player\n",
    "corr"
   ]
  },
  {
   "cell_type": "code",
   "execution_count": 24,
   "metadata": {},
   "outputs": [
    {
     "data": {
      "image/png": "[encoded data removed]",
      "text/plain": [
       "<Figure size 576x576 with 1 Axes>"
      ]
     },
     "metadata": {
      "needs_background": "light"
     },
     "output_type": "display_data"
    }
   ],
   "source": [
    "fig = plt.figure(figsize=(8,8))\n",
    "plt.matshow(corr, cmap='RdBu', fignum=fig.number)\n",
    "plt.xticks(range(len(corr.columns)), corr.columns, rotation='vertical');\n",
    "plt.yticks(range(len(corr.columns)), corr.columns);"
   ]
  },
  {
   "cell_type": "markdown",
   "metadata": {},
   "source": [
    "# Comparaison of the average score between Left and Right main foot players"
   ]
  },
  {
   "cell_type": "markdown",
   "metadata": {},
   "source": [
    "First we get the average value for right main foot players"
   ]
  },
  {
   "cell_type": "code",
   "execution_count": 26,
   "metadata": {},
   "outputs": [
    {
     "data": {
      "text/plain": [
       "66.89880675654734"
      ]
     },
     "execution_count": 26,
     "metadata": {},
     "output_type": "execute_result"
    }
   ],
   "source": [
    "df.loc[(df['foot'] == 'Right'), 'OVA'].mean() # right foot average player"
   ]
  },
  {
   "cell_type": "markdown",
   "metadata": {},
   "source": [
    "Then we compare it to the left main foot players. The difference isn't significant"
   ]
  },
  {
   "cell_type": "code",
   "execution_count": 27,
   "metadata": {},
   "outputs": [
    {
     "data": {
      "text/plain": [
       "67.16757525479971"
      ]
     },
     "execution_count": 27,
     "metadata": {},
     "output_type": "execute_result"
    }
   ],
   "source": [
    "df.loc[(df['foot'] == 'Left'), 'OVA'].mean() # left foot average player "
   ]
  },
  {
   "cell_type": "markdown",
   "metadata": {},
   "source": [
    "# Study of the evolution of the average level regarding players's ages"
   ]
  },
  {
   "cell_type": "code",
   "execution_count": 28,
   "metadata": {},
   "outputs": [
    {
     "data": {
      "text/plain": [
       "Text(0, 0.5, 'OVA')"
      ]
     },
     "execution_count": 28,
     "metadata": {},
     "output_type": "execute_result"
    },
    {
     "data": {
      "image/png": "[encoded data removed]",
      "text/plain": [
       "<Figure size 720x432 with 1 Axes>"
      ]
     },
     "metadata": {
      "needs_background": "light"
     },
     "output_type": "display_data"
    }
   ],
   "source": [
    "ax = df[['OVA', 'Age']].boxplot(by='Age', figsize=(10,6))\n",
    "ax.set_ylabel('OVA')\n"
   ]
  },
  {
   "cell_type": "code",
   "execution_count": 29,
   "metadata": {},
   "outputs": [
    {
     "data": {
      "text/plain": [
       "<matplotlib.axes._subplots.AxesSubplot at 0x1e8c5fd6af0>"
      ]
     },
     "execution_count": 29,
     "metadata": {},
     "output_type": "execute_result"
    },
    {
     "data": {
      "image/png": "[encoded data removed]",
      "text/plain": [
       "<Figure size 432x432 with 1 Axes>"
      ]
     },
     "metadata": {
      "needs_background": "light"
     },
     "output_type": "display_data"
    }
   ],
   "source": [
    "df.plot(kind='scatter', x='Age', y='OVA', figsize=(6,6))"
   ]
  },
  {
   "cell_type": "markdown",
   "metadata": {},
   "source": [
    "# Are some positions having better average scores?"
   ]
  },
  {
   "cell_type": "code",
   "execution_count": 30,
   "metadata": {},
   "outputs": [
    {
     "data": {
      "text/plain": [
       "Text(0, 0.5, 'OVA')"
      ]
     },
     "execution_count": 30,
     "metadata": {},
     "output_type": "execute_result"
    },
    {
     "data": {
      "image/png": "[encoded data removed]",
      "text/plain": [
       "<Figure size 720x432 with 1 Axes>"
      ]
     },
     "metadata": {
      "needs_background": "light"
     },
     "output_type": "display_data"
    }
   ],
   "source": [
    "\n",
    "ax = df[['OVA', 'BP']].boxplot(by='BP', figsize=(10,6)) # niveau moyen des joueurs en fonction des positions\n",
    "ax.set_ylabel('OVA')\n"
   ]
  },
  {
   "cell_type": "markdown",
   "metadata": {},
   "source": [
    "With the first plot it seems there is not significant difference, but is there a difference when studying the super stars players ( score > 84 => 109 best players) \n"
   ]
  },
  {
   "cell_type": "code",
   "execution_count": 31,
   "metadata": {},
   "outputs": [
    {
     "data": {
      "text/plain": [
       "(109, 14)"
      ]
     },
     "execution_count": 31,
     "metadata": {},
     "output_type": "execute_result"
    }
   ],
   "source": [
    "\n",
    "dt =df[df.OVA > 84]\n",
    "dt.shape\n"
   ]
  },
  {
   "cell_type": "markdown",
   "metadata": {},
   "source": [
    "Plot of the scores regarding the position, we can see that ST,RW,LW and GK are more represented in the very top players"
   ]
  },
  {
   "cell_type": "code",
   "execution_count": 32,
   "metadata": {},
   "outputs": [
    {
     "data": {
      "text/plain": [
       "Text(0, 0.5, 'OVA')"
      ]
     },
     "execution_count": 32,
     "metadata": {},
     "output_type": "execute_result"
    },
    {
     "data": {
      "image/png": "[encoded data removed]",
      "text/plain": [
       "<Figure size 720x432 with 1 Axes>"
      ]
     },
     "metadata": {
      "needs_background": "light"
     },
     "output_type": "display_data"
    }
   ],
   "source": [
    "\n",
    "ax = dt[['OVA', 'BP']].boxplot(by='BP', figsize=(10,6)) # niveau moyen des joueurs en fonction des positions\n",
    "ax.set_ylabel('OVA') # repartition of the role of super player ( OVA > 84)\n"
   ]
  },
  {
   "cell_type": "code",
   "execution_count": null,
   "metadata": {},
   "outputs": [],
   "source": []
  }
 ],
 "metadata": {
  "kernelspec": {
   "display_name": "Python 3",
   "language": "python",
   "name": "python3"
  },
  "language_info": {
   "codemirror_mode": {
    "name": "ipython",
    "version": 3
   },
   "file_extension": ".py",
   "mimetype": "text/x-python",
   "name": "python",
   "nbconvert_exporter": "python",
   "pygments_lexer": "ipython3",
   "version": "3.8.3"
  }
 },
 "nbformat": 4,
 "nbformat_minor": 4
}
